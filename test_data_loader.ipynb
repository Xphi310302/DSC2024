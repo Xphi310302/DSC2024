{
 "cells": [
  {
   "cell_type": "code",
   "execution_count": 1,
   "metadata": {},
   "outputs": [
    {
     "name": "stderr",
     "output_type": "stream",
     "text": [
      "/home/xphi/anaconda3/envs/uit/lib/python3.11/site-packages/tqdm/auto.py:21: TqdmWarning: IProgress not found. Please update jupyter and ipywidgets. See https://ipywidgets.readthedocs.io/en/stable/user_install.html\n",
      "  from .autonotebook import tqdm as notebook_tqdm\n"
     ]
    },
    {
     "data": {
      "text/plain": [
       "True"
      ]
     },
     "execution_count": 1,
     "metadata": {},
     "output_type": "execute_result"
    }
   ],
   "source": [
    "from src.data_loader import URLLoader\n",
    "from llama_index.readers.web import SimpleWebPageReader\n",
    "import dotenv\n",
    "\n",
    "dotenv.load_dotenv()"
   ]
  },
  {
   "cell_type": "code",
   "execution_count": 2,
   "metadata": {},
   "outputs": [],
   "source": [
    "loader = URLLoader()\n",
    "web_loader = SimpleWebPageReader()"
   ]
  },
  {
   "cell_type": "code",
   "execution_count": 3,
   "metadata": {},
   "outputs": [],
   "source": [
    "urls = [\n",
    "    # \"https://student.uit.edu.vn/content/cu-nhan-nganh-cong-nghe-thong-tin-ap-dung-tu-khoa-18-2023\",\n",
    "    # \"https://tuyensinh.uit.edu.vn/tong-quan-nganh-tri-tue-nhan-tao\",\n",
    "    \"https://student.uit.edu.vn/thong-bao-ve-viec-dao-tao-song-nganh-trinh-do-dai-hoc-he-chinh-quy\"\n",
    "]\n",
    "documents = loader.load_data(urls)"
   ]
  },
  {
   "cell_type": "code",
   "execution_count": 4,
   "metadata": {},
   "outputs": [
    {
     "name": "stdout",
     "output_type": "stream",
     "text": [
      "\n",
      "\n",
      "\n",
      "Thông báo về việc đào tạo song ngành trình độ đại học hệ chính quy\n",
      "==================================================================\n",
      "\n",
      "\n",
      "\n",
      " \n",
      "     T3, 01/10/2024 \\- 14:58 \n",
      "\n",
      "Chào các bạn sinh viên!\n",
      "\n",
      "\n",
      "Hiện tại Trường đã ban hành quy định về đào tạo song ngành trình độ đại học hệ chính quy, phòng Đào tạo Đại học thông báo đến các bạn sinh viên tham khảo quy định tại link: [https://daa.uit.edu.vn/28\\-quy\\-dinh\\-dao\\-tao\\-song\\-nganh\\-trinh\\-do\\-dai\\-hoc\\-he\\-chinh\\-quy](https://daa.uit.edu.vn/28-quy-dinh-dao-tao-song-nganh-trinh-do-dai-hoc-he-chinh-quy)\n",
      "\n",
      "\n",
      "Sinh viên đại học hệ chính quy văn bằng 1 của Trường được đăng ký học thêm một chương trình đào tạo thứ hai ngành bất kỳ nếu thỏa mãn các điều kiện của quy định.\n",
      "\n",
      "\n",
      "Sinh viên đại học hệ chính quy văn bằng 1 thuộc các CSĐT đại học là thành viên của ĐHQG\\-HCM được đăng ký học thêm một chương trình đào tạo thứ hai tại Trường là ngành Thương mại điện tử nếu thỏa mãn các điều kiện của quy định.\n",
      "\n",
      "\n",
      "Đầu mỗi học kỳ, trước khi đăng ký học phần hai tuần, phòng Đào tạo Đại học sẽ ra Thông báo tuyển sinh chương trình song ngành trên daa đối với sinh viên trong Trường; thông báo trên trang web tuyển sinh (<https://tuyensinh.uit.edu.vn>) đối với sinh viên ngoài Trường đăng ký song ngành ngành Thương mại điện tử. Sinh viên liên hệ khoa Hệ thống thông tin/Bộ môn Thương mại điện tử để được tư vấn thêm về chương trình song ngành Thương mại điện tử. Hotline tư vấn 0908831246\\.\n",
      "\n",
      "\n",
      "Sinh viên có nhu cầu học thì làm đơn đăng ký theo mẫu ([https://daa.uit.edu.vn/mot\\-so\\-quy\\-trinh\\-danh\\-cho\\-sinh\\-vien\\#dksongnganh](https://daa.uit.edu.vn/mot-so-quy-trinh-danh-cho-sinh-vien#dksongnganh)) và nộp tại phòng Đào tạo Đại học (A120\\).\n",
      "\n",
      "\n",
      "Điều kiện cụ thể để sinh viên đăng ký học song ngành như sau:\n",
      "\n",
      "\n",
      "Sinh viên đại học hệ chính quy văn bằng 1 đồng thời thỏa mãn các điều kiện tối thiểu sau:\n",
      "\n",
      "\n",
      "1\\. Ngành đào tạo ở chương trình thứ hai phải khác ngành đào tạo ở chương trình thứ nhất;\n",
      "\n",
      "\n",
      "2\\. SV đã hoàn thành năm học đầu tiên của ngành thứ nhất, trước học kỳ cuối của thời gian thiết kế chương trình đào tạo 01 học kỳ;\n",
      "\n",
      "\n",
      "3\\. Tại thời điểm đăng ký, SV phải đáp ứng một trong hai điều kiện sau:\n",
      "\n",
      "\n",
      "\\- Học lực tính theo ĐTBCTL xếp loại khá trở lên và đáp ứng ngưỡng bảo đảm chất lượng của chương trình thứ hai trong năm tuyển sinh (nếu có).\n",
      "\n",
      "\n",
      "\\- Học lực tính theo ĐTBCTL xếp loại trung bình và đáp ứng điều kiện trúng tuyển của chương trình thứ hai trong năm tuyển sinh.\n",
      "\n",
      "\n",
      "Sinh viên chỉ được học song ngành thêm 01 ngành tại Trường. Sinh viên được phép làm đơn xin thôi học song ngành.\n",
      "\n",
      "\n",
      "Trân trọng.\n",
      "\n",
      "\n",
      "Các file đính kèm: ![PDF icon](/modules/file/icons/application-pdf.png \"application/pdf\") [03\\-tb\\-dtdh\\_01\\-10\\-2024\\_dao\\_tao\\_song\\_nganh.pdf](https://student.uit.edu.vn/sites/daa/files/202410/03-tb-dtdh_01-10-2024_dao_tao_song_nganh.pdf) \n",
      "\n",
      "\n",
      "\n",
      "\n",
      "\n",
      " \n",
      " Bài viết liên quan\n",
      "------------------\n",
      "\n",
      "\n",
      " \n",
      "\n",
      " * [Thông báo nghỉ lớp Lập trình mạng căn bản (NT106\\.P12\\.2\\) ngày 07/11/2024](/node/24810)\n",
      "(30\\-10\\-2024\\)\n",
      "* [Thông báo nghỉ lớp Kiến trúc máy tính (IT006\\.P14\\) ngày 30/10/2024](/node/24805)\n",
      "(30\\-10\\-2024\\)\n",
      "* [Thông báo nghỉ lớp Cấu trúc dữ liệu và giải thuật (IT003\\.P13\\) ngày 30/10/2024](/node/24800)\n",
      "(30\\-10\\-2024\\)\n",
      "* [Thông báo nghỉ lớp Nhập môn lập trình (IT001\\.P112\\) ngày 06/11/2024](/node/24798)\n",
      "(30\\-10\\-2024\\)\n",
      "* [Thông báo học bù Quản lý thông tin (IE103\\.P12\\) ngày 09/12/2024](/node/24793)\n",
      "(30\\-10\\-2024\\)\n",
      " \n",
      "Trang\n",
      "-----\n",
      "\n",
      "* 1\n",
      "* [2](/thong-bao-ve-viec-dao-tao-song-nganh-trinh-do-dai-hoc-he-chinh-quy?page=1 \"Đến trang 2\")\n",
      "* [3](/thong-bao-ve-viec-dao-tao-song-nganh-trinh-do-dai-hoc-he-chinh-quy?page=2 \"Đến trang 3\")\n",
      "* [4](/thong-bao-ve-viec-dao-tao-song-nganh-trinh-do-dai-hoc-he-chinh-quy?page=3 \"Đến trang 4\")\n",
      "* [5](/thong-bao-ve-viec-dao-tao-song-nganh-trinh-do-dai-hoc-he-chinh-quy?page=4 \"Đến trang 5\")\n",
      "* [6](/thong-bao-ve-viec-dao-tao-song-nganh-trinh-do-dai-hoc-he-chinh-quy?page=5 \"Đến trang 6\")\n",
      "* [7](/thong-bao-ve-viec-dao-tao-song-nganh-trinh-do-dai-hoc-he-chinh-quy?page=6 \"Đến trang 7\")\n",
      "* [8](/thong-bao-ve-viec-dao-tao-song-nganh-trinh-do-dai-hoc-he-chinh-quy?page=7 \"Đến trang 8\")\n",
      "* [9](/thong-bao-ve-viec-dao-tao-song-nganh-trinh-do-dai-hoc-he-chinh-quy?page=8 \"Đến trang 9\")\n",
      "* …\n",
      "* [sau ›](/thong-bao-ve-viec-dao-tao-song-nganh-trinh-do-dai-hoc-he-chinh-quy?page=1 \"Đến trang kế sau\")\n",
      "* [cuối »](/thong-bao-ve-viec-dao-tao-song-nganh-trinh-do-dai-hoc-he-chinh-quy?page=3291 \"Đến trang cuối cùng\")\n",
      "\n",
      " \n",
      "\n",
      "\n",
      "\n",
      "\n",
      "\n",
      "\n"
     ]
    }
   ],
   "source": [
    "print(documents[0].text)"
   ]
  },
  {
   "cell_type": "code",
   "execution_count": 5,
   "metadata": {},
   "outputs": [
    {
     "name": "stdout",
     "output_type": "stream",
     "text": [
      "DEBUG DEBUG\n"
     ]
    },
    {
     "name": "stderr",
     "output_type": "stream",
     "text": [
      "INFO:log:log.txt:===== CONNECT TO DB Database(MongoClient(host=['uit-db-test-shard-00-02.4jaw7.mongodb.net:27017', 'uit-db-test-shard-00-00.4jaw7.mongodb.net:27017', 'uit-db-test-shard-00-01.4jaw7.mongodb.net:27017'], document_class=dict, tz_aware=False, connect=True, retrywrites=True, w='majority', appname='uitadminbotdb', authsource='admin', replicaset='atlas-46ilvr-shard-0', tls=True), 'uitadminbotdb') SUCCESSFULLY\n",
      "/home/xphi/anaconda3/envs/uit/lib/python3.11/site-packages/fireworks/client/image_api.py:131: PydanticDeprecatedSince20: Pydantic V1 style `@validator` validators are deprecated. You should migrate to Pydantic V2 style `@field_validator` validators, see the migration guide for more details. Deprecated in Pydantic V2.0 to be removed in V3.0. See Pydantic V2 Migration Guide at https://errors.pydantic.dev/2.9/migration/\n",
      "  @validator(\"image_strength\", pre=True, always=True)\n",
      "/home/xphi/anaconda3/envs/uit/lib/python3.11/site-packages/fireworks/client/image_api.py:139: PydanticDeprecatedSince20: Pydantic V1 style `@validator` validators are deprecated. You should migrate to Pydantic V2 style `@field_validator` validators, see the migration guide for more details. Deprecated in Pydantic V2.0 to be removed in V3.0. See Pydantic V2 Migration Guide at https://errors.pydantic.dev/2.9/migration/\n",
      "  @validator(\"step_schedule_start\", \"step_schedule_end\", pre=True, always=True)\n"
     ]
    }
   ],
   "source": [
    "from src.services.file_management import FileManagement\n",
    "from src.repositories.file_repository import FileRepository\n",
    "from src.storage.weaviatedb import WeaviateDB"
   ]
  },
  {
   "cell_type": "code",
   "execution_count": 7,
   "metadata": {},
   "outputs": [
    {
     "name": "stdout",
     "output_type": "stream",
     "text": [
      "thong-bao-ve-viec-dao-tao-song-nganh-trinh-do-dai-hoc-he-chinh-quy\n",
      "Thông báo về việc đào tạo song ngành trình độ đại học hệ chính quy\n"
     ]
    }
   ],
   "source": [
    "from src.utils.openai_call import get_major_name_from_link\n",
    "import os\n",
    "\n",
    "link_name = os.path.basename(urls[0])\n",
    "print(link_name)\n",
    "resp = get_major_name_from_link(link_name)\n",
    "print(resp.text)"
   ]
  },
  {
   "cell_type": "code",
   "execution_count": 8,
   "metadata": {},
   "outputs": [
    {
     "name": "stderr",
     "output_type": "stream",
     "text": [
      "/home/xphi/anaconda3/envs/uit/lib/python3.11/site-packages/torch/cuda/__init__.py:128: UserWarning: CUDA initialization: CUDA unknown error - this may be due to an incorrectly set up environment, e.g. changing env variable CUDA_VISIBLE_DEVICES after program start. Setting the available devices to be zero. (Triggered internally at ../c10/cuda/CUDAFunctions.cpp:108.)\n",
      "  return torch._C._cuda_getDeviceCount() > 0\n"
     ]
    }
   ],
   "source": [
    "from llama_index.core import Settings\n",
    "from llama_index.embeddings.huggingface import HuggingFaceEmbedding\n",
    "# embed_model = OpenAIEmbedding(model=\"text-embedding-3-small\")\n",
    "\n",
    "embed_model = HuggingFaceEmbedding(\n",
    "    model_name=\"hiieu/halong_embedding\", truncate_dim=768, trust_remote_code=True\n",
    ")\n",
    "Settings.embed_model = embed_model"
   ]
  },
  {
   "cell_type": "code",
   "execution_count": 9,
   "metadata": {},
   "outputs": [],
   "source": [
    "file_management = FileManagement(\n",
    "    file_repository=FileRepository(),\n",
    "    general_loader=URLLoader(),\n",
    "    vector_database=WeaviateDB(),\n",
    ")\n"
   ]
  },
  {
   "cell_type": "code",
   "execution_count": 10,
   "metadata": {},
   "outputs": [
    {
     "name": "stdout",
     "output_type": "stream",
     "text": [
      "['151bc9cd-de46-44be-a94d-9d8546f57fee']\n",
      "Tiêu đề: Thông báo về việc đào tạo song ngành trình độ đại học hệ chính quy\n",
      "Indexing successfully!!!\n",
      "add data successfully!!!\n"
     ]
    },
    {
     "name": "stderr",
     "output_type": "stream",
     "text": [
      "ERROR:weaviate-client:{'message': 'Failed to send 3 objects in a batch of 3. Please inspect client.batch.failed_objects or collection.batch.failed_objects for the failed objects.'}\n"
     ]
    }
   ],
   "source": [
    "await file_management.add_file_by_chunking(urls)\n"
   ]
  },
  {
   "cell_type": "code",
   "execution_count": 10,
   "metadata": {},
   "outputs": [
    {
     "name": "stdout",
     "output_type": "stream",
     "text": [
      "Document with public_id = dc4c7363-1284-45aa-b2ea-4c7a3a189806 deleted successfully.\n"
     ]
    }
   ],
   "source": [
    "file_management.delete_file(public_id=\"dc4c7363-1284-45aa-b2ea-4c7a3a189806\")\n"
   ]
  }
 ],
 "metadata": {
  "kernelspec": {
   "display_name": "uit",
   "language": "python",
   "name": "python3"
  },
  "language_info": {
   "codemirror_mode": {
    "name": "ipython",
    "version": 3
   },
   "file_extension": ".py",
   "mimetype": "text/x-python",
   "name": "python",
   "nbconvert_exporter": "python",
   "pygments_lexer": "ipython3",
   "version": "3.11.9"
  }
 },
 "nbformat": 4,
 "nbformat_minor": 2
}
