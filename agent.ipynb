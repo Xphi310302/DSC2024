{
 "cells": [
  {
   "cell_type": "markdown",
   "metadata": {},
   "source": [
    "### Import libraries"
   ]
  },
  {
   "cell_type": "code",
   "execution_count": 1,
   "metadata": {},
   "outputs": [],
   "source": [
    "import json\n",
    "from typing import Sequence\n",
    "from llama_index.core.tools import BaseTool, FunctionTool\n",
    "from typing import List, Dict\n",
    "from llama_index.core import VectorStoreIndex\n",
    "from llama_index.core.objects import ObjectIndex\n",
    "from llama_index.agent.openai import OpenAIAgent\n",
    "from llama_index.core.tools import QueryEngineTool, ToolMetadata, RetrieverTool\n",
    "from llama_index.core.objects import ObjectIndex\n",
    "\n",
    "from llama_index.core.agent import ReActAgent"
   ]
  },
  {
   "cell_type": "code",
   "execution_count": 2,
   "metadata": {},
   "outputs": [
    {
     "name": "stderr",
     "output_type": "stream",
     "text": [
      "c:\\Users\\Admin\\anaconda3\\envs\\chatbot\\lib\\site-packages\\tqdm\\auto.py:21: TqdmWarning: IProgress not found. Please update jupyter and ipywidgets. See https://ipywidgets.readthedocs.io/en/stable/user_install.html\n",
      "  from .autonotebook import tqdm as notebook_tqdm\n",
      "c:\\Users\\Admin\\anaconda3\\envs\\chatbot\\lib\\site-packages\\fireworks\\client\\image_api.py:131: PydanticDeprecatedSince20: Pydantic V1 style `@validator` validators are deprecated. You should migrate to Pydantic V2 style `@field_validator` validators, see the migration guide for more details. Deprecated in Pydantic V2.0 to be removed in V3.0. See Pydantic V2 Migration Guide at https://errors.pydantic.dev/2.8/migration/\n",
      "  @validator(\"image_strength\", pre=True, always=True)\n",
      "c:\\Users\\Admin\\anaconda3\\envs\\chatbot\\lib\\site-packages\\fireworks\\client\\image_api.py:139: PydanticDeprecatedSince20: Pydantic V1 style `@validator` validators are deprecated. You should migrate to Pydantic V2 style `@field_validator` validators, see the migration guide for more details. Deprecated in Pydantic V2.0 to be removed in V3.0. See Pydantic V2 Migration Guide at https://errors.pydantic.dev/2.8/migration/\n",
      "  @validator(\"step_schedule_start\", \"step_schedule_end\", pre=True, always=True)\n"
     ]
    },
    {
     "name": "stdout",
     "output_type": "stream",
     "text": [
      "DEBUG DEBUG\n"
     ]
    },
    {
     "name": "stderr",
     "output_type": "stream",
     "text": [
      "INFO:log:log.txt:===== CONNECT TO DB Database(MongoClient(host=['ac-bdw246i-shard-00-01.r5jn7of.mongodb.net:27017', 'ac-bdw246i-shard-00-02.r5jn7of.mongodb.net:27017', 'ac-bdw246i-shard-00-00.r5jn7of.mongodb.net:27017'], document_class=dict, tz_aware=False, connect=True, retrywrites=True, w='majority', appname='uitadminbotdb', authsource='admin', replicaset='atlas-jqwcnl-shard-0', tls=True), 'uitadminbotdb') SUCCESSFULLY\n",
      "c:\\Users\\Admin\\anaconda3\\envs\\chatbot\\lib\\site-packages\\pydantic\\_internal\\_config.py:291: PydanticDeprecatedSince20: Support for class-based `config` is deprecated, use ConfigDict instead. Deprecated in Pydantic V2.0 to be removed in V3.0. See Pydantic V2 Migration Guide at https://errors.pydantic.dev/2.8/migration/\n",
      "  warnings.warn(DEPRECATION_MESSAGE, DeprecationWarning)\n",
      "c:\\Users\\Admin\\anaconda3\\envs\\chatbot\\lib\\site-packages\\sklearn\\base.py:376: InconsistentVersionWarning: Trying to unpickle estimator TfidfTransformer from version 1.2.2 when using version 1.5.1. This might lead to breaking code or invalid results. Use at your own risk. For more info please refer to:\n",
      "https://scikit-learn.org/stable/model_persistence.html#security-maintainability-limitations\n",
      "  warnings.warn(\n",
      "c:\\Users\\Admin\\anaconda3\\envs\\chatbot\\lib\\site-packages\\sklearn\\base.py:376: InconsistentVersionWarning: Trying to unpickle estimator TfidfVectorizer from version 1.2.2 when using version 1.5.1. This might lead to breaking code or invalid results. Use at your own risk. For more info please refer to:\n",
      "https://scikit-learn.org/stable/model_persistence.html#security-maintainability-limitations\n",
      "  warnings.warn(\n",
      "c:\\Users\\Admin\\anaconda3\\envs\\chatbot\\lib\\site-packages\\sklearn\\base.py:376: InconsistentVersionWarning: Trying to unpickle estimator SVC from version 1.2.2 when using version 1.5.1. This might lead to breaking code or invalid results. Use at your own risk. For more info please refer to:\n",
      "https://scikit-learn.org/stable/model_persistence.html#security-maintainability-limitations\n",
      "  warnings.warn(\n",
      "c:\\Users\\Admin\\anaconda3\\envs\\chatbot\\lib\\site-packages\\sklearn\\base.py:376: InconsistentVersionWarning: Trying to unpickle estimator Pipeline from version 1.2.2 when using version 1.5.1. This might lead to breaking code or invalid results. Use at your own risk. For more info please refer to:\n",
      "https://scikit-learn.org/stable/model_persistence.html#security-maintainability-limitations\n",
      "  warnings.warn(\n",
      "c:\\Users\\Admin\\anaconda3\\envs\\chatbot\\lib\\site-packages\\sklearn\\base.py:376: InconsistentVersionWarning: Trying to unpickle estimator TfidfTransformer from version 1.5.2 when using version 1.5.1. This might lead to breaking code or invalid results. Use at your own risk. For more info please refer to:\n",
      "https://scikit-learn.org/stable/model_persistence.html#security-maintainability-limitations\n",
      "  warnings.warn(\n",
      "c:\\Users\\Admin\\anaconda3\\envs\\chatbot\\lib\\site-packages\\sklearn\\base.py:376: InconsistentVersionWarning: Trying to unpickle estimator TfidfVectorizer from version 1.5.2 when using version 1.5.1. This might lead to breaking code or invalid results. Use at your own risk. For more info please refer to:\n",
      "https://scikit-learn.org/stable/model_persistence.html#security-maintainability-limitations\n",
      "  warnings.warn(\n",
      "c:\\Users\\Admin\\anaconda3\\envs\\chatbot\\lib\\site-packages\\sklearn\\base.py:376: InconsistentVersionWarning: Trying to unpickle estimator SVC from version 1.5.2 when using version 1.5.1. This might lead to breaking code or invalid results. Use at your own risk. For more info please refer to:\n",
      "https://scikit-learn.org/stable/model_persistence.html#security-maintainability-limitations\n",
      "  warnings.warn(\n",
      "c:\\Users\\Admin\\anaconda3\\envs\\chatbot\\lib\\site-packages\\sklearn\\base.py:376: InconsistentVersionWarning: Trying to unpickle estimator Pipeline from version 1.5.2 when using version 1.5.1. This might lead to breaking code or invalid results. Use at your own risk. For more info please refer to:\n",
      "https://scikit-learn.org/stable/model_persistence.html#security-maintainability-limitations\n",
      "  warnings.warn(\n",
      "c:\\Users\\Admin\\anaconda3\\envs\\chatbot\\lib\\site-packages\\transformers\\tokenization_utils_base.py:1601: FutureWarning: `clean_up_tokenization_spaces` was not set. It will be set to `True` by default. This behavior will be depracted in transformers v4.45, and will be then set to `False` by default. For more details check this issue: https://github.com/huggingface/transformers/issues/31884\n",
      "  warnings.warn(\n",
      "WARNING:sentence_transformers.SentenceTransformer:You try to use a model that was created with version 3.0.1, however, your version is 2.7.0. This might cause unexpected behavior or errors. In that case, try to update to the latest version.\n",
      "\n",
      "\n",
      "\n"
     ]
    }
   ],
   "source": [
    "from src.services.service import Service\n",
    "service = Service()"
   ]
  },
  {
   "cell_type": "code",
   "execution_count": 7,
   "metadata": {},
   "outputs": [],
   "source": [
    "def sum_subjects(a, b, c):\n",
    "    \"\"\"\n",
    "    The sum of user score:\n",
    "    \"\"\"\n",
    "    return a + b + c\n",
    "\n",
    "def get_year(year: int) -> str:\n",
    "    if not year:\n",
    "        return 2024\n",
    "    return year\n",
    "\n",
    "def compare_score(user_score: float, all_major_score: List[Dict]) -> List[Dict]:\n",
    "    \"\"\"\n",
    "    Compare user's total score to all the major's cutoff scores\n",
    "    \"\"\"\n",
    "    result = []\n",
    "    for major_info in all_major_score:\n",
    "        is_pass = user_score >= major_info['score']\n",
    "        result.append({\n",
    "            \"major\": major_info['major'],\n",
    "            \"is_pass\": is_pass\n",
    "        })\n",
    "    return result\n",
    "\n",
    "def get_uit_cutoff_scores_2024():\n",
    "    return [\n",
    "        {\"major\": \"THƯƠNG MẠI ĐIỆN TỬ\", \"major_code\": \"7340122\", \"score\": 26.12},\n",
    "        {\"major\": \"KHOA HỌC DỮ LIỆU\", \"major_code\": \"7460108\", \"score\": 27.5},\n",
    "        {\"major\": \"KHOA HỌC MÁY TÍNH\", \"major_code\": \"7480101\", \"score\": 27.3},\n",
    "        {\"major\": \"TRÍ TUỆ NHÂN TẠO\", \"major_code\": \"7480107\", \"score\": 28.3},\n",
    "        {\"major\": \"MẠNG MÁY TÍNH VÀ TRUYỀN THÔNG DỮ LIỆU\", \"major_code\": \"7480102\", \"score\": 25.7},\n",
    "        {\"major\": \"KỸ THUẬT PHẦN MỀM\", \"major_code\": \"7480103\", \"score\": 26.85},\n",
    "        {\"major\": \"HỆ THỐNG THÔNG TIN\", \"major_code\": \"7480104\", \"score\": 26.25},\n",
    "        {\"major\": \"HỆ THỐNG THÔNG TIN (CT TIÊN TIẾN)\", \"major_code\": \"7480104_TT\", \"score\": 25.55},\n",
    "        {\"major\": \"KỸ THUẬT MÁY TÍNH\", \"major_code\": \"7480106\", \"score\": 26.25},\n",
    "        {\"major\": \"CÔNG NGHỆ THÔNG TIN\", \"major_code\": \"7480201\", \"score\": 27.1},\n",
    "        {\"major\": \"CÔNG NGHỆ THÔNG TIN (VIỆT NHẬT)\", \"major_code\": \"7480201_N\", \"score\": 25.55},\n",
    "        {\"major\": \"AN TOÀN THÔNG TIN\", \"major_code\": \"7480202\", \"score\": 26.77},\n",
    "        {\"major\": \"THIẾT KẾ VI MẠCH\", \"major_code\": \"75202a1\", \"score\": 26.5},\n",
    "    ]\n",
    "\n",
    "def get_uit_cutoff_scores_2023():\n",
    "    return [\n",
    "        {\"major\": \"Khoa Học Máy Tính\", \"major_code\": \"7480101\", \"score\": 26.9},\n",
    "        {\"major\": \"Trí Tuệ Nhân Tạo\", \"major_code\": \"7480107\", \"score\": 27.8},\n",
    "        {\"major\": \"Mạng Máy Tính Và Truyền Thông Dữ Liệu\", \"major_code\": \"7480102\", \"score\": 25.4},\n",
    "        {\"major\": \"Kỹ Thuật Phần Mềm\", \"major_code\": \"7480103\", \"score\": 26.9},\n",
    "        {\"major\": \"Hệ Thống Thông Tin\", \"major_code\": \"7480104\", \"score\": 26.1},\n",
    "        {\"major\": \"Hệ Thống Thông Tin (Tiên Tiến)\", \"major_code\": \"7480104_TT\", \"score\": 25.4},\n",
    "        {\"major\": \"Thương Mại Điện Tử\", \"major_code\": \"7340122\", \"score\": 25.8},\n",
    "        {\"major\": \"Công Nghệ Thông Tin\", \"major_code\": \"7480201\", \"score\": 26.9},\n",
    "        {\"major\": \"Công Nghệ Thông Tin (Việt - Nhật)\", \"major_code\": \"7480201_N\", \"score\": 25.9},\n",
    "        {\"major\": \"Khoa Học Dữ Liệu\", \"major_code\": \"7480108\", \"score\": 27.1},\n",
    "        {\"major\": \"An Toàn Thông Tin\", \"major_code\": \"7480202\", \"score\": 26.3},\n",
    "        {\"major\": \"Kỹ Thuật Máy Tính\", \"major_code\": \"7480106\", \"score\": 25.6},\n",
    "        {\"major\": \"Kỹ Thuật Máy Tính (Hệ Thống Nhúng và IoT)\", \"major_code\": \"7480106_IOT\", \"score\": 25.6},\n",
    "        {\"major\": \"Kỹ Thuật Máy Tính (Thiết Kế Vi Mạch)\", \"major_code\": \"7480106_TKVM\", \"score\": 25.4},\n",
    "    ]"
   ]
  },
  {
   "cell_type": "code",
   "execution_count": 8,
   "metadata": {},
   "outputs": [],
   "source": [
    "retriever_tool = RetrieverTool(\n",
    "    retriever=service.retriever._retriever,\n",
    "    metadata=ToolMetadata(\n",
    "        name=\"retriever_tool\",\n",
    "        description=(\n",
    "            \"Using for retrieval relevant information from user's query.\"\n",
    "        ),\n",
    "    ),\n",
    ")"
   ]
  },
  {
   "cell_type": "code",
   "execution_count": 9,
   "metadata": {},
   "outputs": [],
   "source": [
    "sum_tool = FunctionTool.from_defaults(fn=sum_subjects, name=\"sum_subjects\", description=\"The sum of user's score.\")\n",
    "compare_tool = FunctionTool.from_defaults(fn=compare_score, name=\"compare_score\" , description=\"compare user's total score to all the major's cutoff score\")\n",
    "get_UIT_cutoff_score_2024_tool = FunctionTool.from_defaults(fn=get_uit_cutoff_scores_2024, name=\"get_uit_cutoff_scores_2024\" , description=\"get_UIT_cutoff_score_2024_tool: List all major score of year 2024\")\n",
    "get_UIT_cutoff_score_2023_tool = FunctionTool.from_defaults(fn=get_uit_cutoff_scores_2023, name=\"get_uit_cutoff_scores_2023\" , description=\"get_UIT_cutoff_score_2023_tool: List all major score of year 2023\")\n",
    "get_year_tool = FunctionTool.from_defaults(fn=get_year, name=\"get_year\" , description=\"get_year: get current year\")"
   ]
  },
  {
   "cell_type": "code",
   "execution_count": 10,
   "metadata": {},
   "outputs": [],
   "source": [
    "tools = [\n",
    "    sum_tool,\n",
    "    compare_tool,\n",
    "    get_UIT_cutoff_score_2024_tool,\n",
    "    get_UIT_cutoff_score_2023_tool,\n",
    "    retriever_tool\n",
    "]"
   ]
  },
  {
   "cell_type": "code",
   "execution_count": 11,
   "metadata": {},
   "outputs": [],
   "source": [
    "obj_index = ObjectIndex.from_objects(\n",
    "    tools,\n",
    "    index=service.vector_database.index\n",
    ")"
   ]
  },
  {
   "cell_type": "code",
   "execution_count": 20,
   "metadata": {},
   "outputs": [],
   "source": [
    "prompt = \"\"\"\n",
    "## ROLE:\n",
    "You are UITchatbot, designed to answer questions specifically related to admissions at the University of Information Technology, Vietnam National University, Ho Chi Minh City (UIT).\n",
    "Your task is to consider whether the candidate will be admitted to UIT based on the suggestions below\n",
    "\n",
    "## IMPORTANT:\n",
    "You must use tools to answer question, do NOT use your own knowledge.\n",
    "When user provide multiple subjects and their scores you MUST Check if the mentioned subjects fall under one of the following combinations and consider all cases carefully (note that the order can vary):  \n",
    "- A00: Math, Physics, Chemistry  \n",
    "- A01: Math, Physics, English  \n",
    "- D01: Math, Literature, English  \n",
    "- D06: Math, Literature, Japanese  \n",
    "- D07: Math, Chemistry, English\n",
    "if not in any combination above then return that you can not support user with the subject list they give you.\n",
    "\n",
    "First, you must use retriever_tool to retrieve the most relevant information from the database.\n",
    "Second, if the user's query is about asking some information that can be answer from retrieved nodes that retrieve_tool retrieved before then return the final answer. If user's query is about score, comparision score, calculation then base on intruction below:\n",
    "\n",
    "## Intruction:\n",
    "To solve the above problem:\n",
    "    - if the user provides scores of each subject, if user not mentioned a specific year in their query, then use year 2024\n",
    "    use the function tool sum_subjects to add up the subjects and then pass it through the get_UIT_cutoff_score tool then use compare_tool.\n",
    "    - If the user provides a single total score, if user not mentioned a specific year in their query, then use year 2024\n",
    "    use the get_UIT_cutoff_score tool then use compare_tool.\n",
    "If the returned list contains any major that is true, then that major is enough for the user to pass\n",
    "\n",
    "Your answer must be concise, short and must be in Vietnamese.\n",
    "\n",
    "## EXAMPLE:\n",
    "user: \"Điểm chuẩn UIT\"\n",
    "You: (trả về điểm chuẩn năm 2024)\n",
    "\"\"\""
   ]
  },
  {
   "cell_type": "code",
   "execution_count": 21,
   "metadata": {},
   "outputs": [],
   "source": [
    "agent = ReActAgent.from_tools(\n",
    "    tool_retriever=obj_index.as_retriever(similarity_top_k=10),\n",
    "    llm=service.llm,\n",
    "    verbose=True,\n",
    "    max_iterations=40,\n",
    "    system_prompt=prompt\n",
    ")"
   ]
  },
  {
   "cell_type": "code",
   "execution_count": 22,
   "metadata": {},
   "outputs": [
    {
     "name": "stdout",
     "output_type": "stream",
     "text": [
      "> Running step 4b5a29d0-9411-44d1-a92a-540d64b5816f. Step input: toán 9 văn 10 sinh 10\n",
      "\u001b[1;3;38;5;200mThought: The current language of the user is: Vietnamese. I need to calculate the total score from the given subject scores.\n",
      "Action: sum_subjects\n",
      "Action Input: {'a': 9, 'b': 10, 'c': 10}\n",
      "\u001b[0m\u001b[1;3;34mObservation: 29\n",
      "\u001b[0m> Running step f27d4d56-d3f5-4ffc-b3dc-433392c49295. Step input: None\n",
      "\u001b[1;3;38;5;200mThought: The total score is 29. Now, I need to compare this score with the cutoff scores for different majors at UIT for the year 2024.\n",
      "Action: get_uit_cutoff_scores_2024\n",
      "Action Input: {}\n",
      "\u001b[0m\u001b[1;3;34mObservation: [{'major': 'THƯƠNG MẠI ĐIỆN TỬ', 'major_code': '7340122', 'score': 26.12}, {'major': 'KHOA HỌC DỮ LIỆU', 'major_code': '7460108', 'score': 27.5}, {'major': 'KHOA HỌC MÁY TÍNH', 'major_code': '7480101', 'score': 27.3}, {'major': 'TRÍ TUỆ NHÂN TẠO', 'major_code': '7480107', 'score': 28.3}, {'major': 'MẠNG MÁY TÍNH VÀ TRUYỀN THÔNG DỮ LIỆU', 'major_code': '7480102', 'score': 25.7}, {'major': 'KỸ THUẬT PHẦN MỀM', 'major_code': '7480103', 'score': 26.85}, {'major': 'HỆ THỐNG THÔNG TIN', 'major_code': '7480104', 'score': 26.25}, {'major': 'HỆ THỐNG THÔNG TIN (CT TIÊN TIẾN)', 'major_code': '7480104_TT', 'score': 25.55}, {'major': 'KỸ THUẬT MÁY TÍNH', 'major_code': '7480106', 'score': 26.25}, {'major': 'CÔNG NGHỆ THÔNG TIN', 'major_code': '7480201', 'score': 27.1}, {'major': 'CÔNG NGHỆ THÔNG TIN (VIỆT NHẬT)', 'major_code': '7480201_N', 'score': 25.55}, {'major': 'AN TOÀN THÔNG TIN', 'major_code': '7480202', 'score': 26.77}, {'major': 'THIẾT KẾ VI MẠCH', 'major_code': '75202a1', 'score': 26.5}]\n",
      "\u001b[0m> Running step b78605b0-0e57-46d0-aa27-b090d1dad9b6. Step input: None\n",
      "\u001b[1;3;38;5;200mThought: I have the cutoff scores for various majors at UIT for 2024. Now, I need to compare the user's total score of 29 with these cutoff scores to determine which majors the user qualifies for.\n",
      "Action: compare_score\n",
      "Action Input: {'user_score': 29, 'all_major_score': [AttributedDict([('major', 'THƯƠNG MẠI ĐIỆN TỬ'), ('major_code', '7340122'), ('score', 26.12)]), AttributedDict([('major', 'KHOA HỌC DỮ LIỆU'), ('major_code', '7460108'), ('score', 27.5)]), AttributedDict([('major', 'KHOA HỌC MÁY TÍNH'), ('major_code', '7480101'), ('score', 27.3)]), AttributedDict([('major', 'TRÍ TUỆ NHÂN TẠO'), ('major_code', '7480107'), ('score', 28.3)]), AttributedDict([('major', 'MẠNG MÁY TÍNH VÀ TRUYỀN THÔNG DỮ LIỆU'), ('major_code', '7480102'), ('score', 25.7)]), AttributedDict([('major', 'KỸ THUẬT PHẦN MỀM'), ('major_code', '7480103'), ('score', 26.85)]), AttributedDict([('major', 'HỆ THỐNG THÔNG TIN'), ('major_code', '7480104'), ('score', 26.25)]), AttributedDict([('major', 'HỆ THỐNG THÔNG TIN (CT TIÊN TIẾN)'), ('major_code', '7480104_TT'), ('score', 25.55)]), AttributedDict([('major', 'KỸ THUẬT MÁY TÍNH'), ('major_code', '7480106'), ('score', 26.25)]), AttributedDict([('major', 'CÔNG NGHỆ THÔNG TIN'), ('major_code', '7480201'), ('score', 27.1)]), AttributedDict([('major', 'CÔNG NGHỆ THÔNG TIN (VIỆT NHẬT)'), ('major_code', '7480201_N'), ('score', 25.55)]), AttributedDict([('major', 'AN TOÀN THÔNG TIN'), ('major_code', '7480202'), ('score', 26.77)]), AttributedDict([('major', 'THIẾT KẾ VI MẠCH'), ('major_code', '75202a1'), ('score', 26.5)])]}\n",
      "\u001b[0m\u001b[1;3;34mObservation: [{'major': 'THƯƠNG MẠI ĐIỆN TỬ', 'is_pass': True}, {'major': 'KHOA HỌC DỮ LIỆU', 'is_pass': True}, {'major': 'KHOA HỌC MÁY TÍNH', 'is_pass': True}, {'major': 'TRÍ TUỆ NHÂN TẠO', 'is_pass': True}, {'major': 'MẠNG MÁY TÍNH VÀ TRUYỀN THÔNG DỮ LIỆU', 'is_pass': True}, {'major': 'KỸ THUẬT PHẦN MỀM', 'is_pass': True}, {'major': 'HỆ THỐNG THÔNG TIN', 'is_pass': True}, {'major': 'HỆ THỐNG THÔNG TIN (CT TIÊN TIẾN)', 'is_pass': True}, {'major': 'KỸ THUẬT MÁY TÍNH', 'is_pass': True}, {'major': 'CÔNG NGHỆ THÔNG TIN', 'is_pass': True}, {'major': 'CÔNG NGHỆ THÔNG TIN (VIỆT NHẬT)', 'is_pass': True}, {'major': 'AN TOÀN THÔNG TIN', 'is_pass': True}, {'major': 'THIẾT KẾ VI MẠCH', 'is_pass': True}]\n",
      "\u001b[0m> Running step b378e7fd-0b60-4b80-b7d9-e8226d70e5c8. Step input: None\n",
      "\u001b[1;3;38;5;200mThought: I can answer without using any more tools. I'll use the user's language to answer.\n",
      "Answer: Với tổng điểm 29, bạn đủ điều kiện để đăng ký vào tất cả các ngành tại UIT năm 2024, bao gồm:\n",
      "\n",
      "1. THƯƠNG MẠI ĐIỆN TỬ\n",
      "2. KHOA HỌC DỮ LIỆU\n",
      "3. KHOA HỌC MÁY TÍNH\n",
      "4. TRÍ TUỆ NHÂN TẠO\n",
      "5. MẠNG MÁY TÍNH VÀ TRUYỀN THÔNG DỮ LIỆU\n",
      "6. KỸ THUẬT PHẦN MỀM\n",
      "7. HỆ THỐNG THÔNG TIN\n",
      "8. HỆ THỐNG THÔNG TIN (CT TIÊN TIẾN)\n",
      "9. KỸ THUẬT MÁY TÍNH\n",
      "10. CÔNG NGHỆ THÔNG TIN\n",
      "11. CÔNG NGHỆ THÔNG TIN (VIỆT NHẬT)\n",
      "12. AN TOÀN THÔNG TIN\n",
      "13. THIẾT KẾ VI MẠCH\n",
      "\u001b[0m13.566722393035889\n"
     ]
    }
   ],
   "source": [
    "import time\n",
    "a = time.time()\n",
    "response = agent.chat(\"toán 9 văn 10 sinh 10\")\n",
    "print(time.time() - a)"
   ]
  },
  {
   "cell_type": "code",
   "execution_count": 19,
   "metadata": {},
   "outputs": [
    {
     "name": "stdout",
     "output_type": "stream",
     "text": [
      "Mục tiêu và định hướng phát triển của ngành Khoa học Máy tính tại Trường Đại học Công nghệ Thông tin (UIT) bao gồm:\n",
      "\n",
      "1. **Nghiên cứu và Chuyển giao Công nghệ**: Thực hiện nghiên cứu khoa học và chuyển giao công nghệ trong lĩnh vực CNTT và truyền thông, cũng như các công nghệ liên quan. Triển khai các ứng dụng CNTT trong các lĩnh vực công nghệ cao, quản lý kinh tế, tài chính theo nhu cầu phát triển kinh tế của đất nước và phù hợp với xu thế phát triển của khu vực Đông Nam Á và thế giới.\n",
      "\n",
      "2. **Đào tạo Nguồn Nhân lực Chất lượng Cao**: Chương trình đào tạo nhằm tuyển chọn và phát triển các sinh viên ưu tú, đào tạo nguồn nhân lực chất lượng cao. Sinh viên được định hướng để phát huy năng lực sở trường, tăng cường hỗ trợ về hoạt động học thuật, nghiên cứu khoa học và công nghệ.\n",
      "\n",
      "3. **Hội nhập Quốc tế**: Tạo điều kiện giao lưu và hội nhập trong đào tạo và nghiên cứu khoa học, nâng cấp công tác tổ chức đào tạo, trình độ chuyên môn của cán bộ quản lý và giảng dạy. Sinh viên được tiếp thu kiến thức và nâng cao trình độ một cách có hệ thống, phát triển khả năng tư duy, rèn luyện kỹ năng nghề nghiệp và ngoại ngữ.\n",
      "\n",
      "4. **Phát triển Cơ sở Vật chất**: Xây dựng và nâng cấp cơ sở vật chất phục vụ đào tạo, thúc đẩy hoạt động nghiên cứu khoa học công nghệ và hợp tác quốc tế.\n",
      "\n",
      "Trường ĐH CNTT hướng đến trở thành một trường đại học trọng điểm về CNTT và truyền thông của Việt Nam, với tầm nhìn nghiên cứu và ứng dụng CNTT không chỉ trong nước mà còn trong khu vực Đông Nam Á.\n"
     ]
    }
   ],
   "source": [
    "print(response)"
   ]
  }
 ],
 "metadata": {
  "kernelspec": {
   "display_name": "chatbot",
   "language": "python",
   "name": "python3"
  },
  "language_info": {
   "codemirror_mode": {
    "name": "ipython",
    "version": 3
   },
   "file_extension": ".py",
   "mimetype": "text/x-python",
   "name": "python",
   "nbconvert_exporter": "python",
   "pygments_lexer": "ipython3",
   "version": "3.10.14"
  }
 },
 "nbformat": 4,
 "nbformat_minor": 2
}
